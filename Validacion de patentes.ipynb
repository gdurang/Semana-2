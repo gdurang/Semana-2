{
  "nbformat": 4,
  "nbformat_minor": 0,
  "metadata": {
    "colab": {
      "provenance": [],
      "authorship_tag": "ABX9TyO9TgXIvsFff4AmVcELl8ji",
      "include_colab_link": true
    },
    "kernelspec": {
      "name": "ir",
      "display_name": "R"
    },
    "language_info": {
      "name": "R"
    }
  },
  "cells": [
    {
      "cell_type": "markdown",
      "metadata": {
        "id": "view-in-github",
        "colab_type": "text"
      },
      "source": [
        "<a href=\"https://colab.research.google.com/github/gdurang/Semana-2/blob/main/Validacion%20de%20patentes.ipynb\" target=\"_parent\"><img src=\"https://colab.research.google.com/assets/colab-badge.svg\" alt=\"Open In Colab\"/></a>"
      ]
    },
    {
      "cell_type": "code",
      "source": [
        "patentes <- read.csv(\"/content/patentes.csv\", sep = \";\", header = TRUE, stringsAsFactors = FALSE)"
      ],
      "metadata": {
        "id": "kkBRSnAiNSaZ"
      },
      "execution_count": 154,
      "outputs": []
    },
    {
      "cell_type": "code",
      "source": [
        "patentes[2,1]"
      ],
      "metadata": {
        "colab": {
          "base_uri": "https://localhost:8080/",
          "height": 34
        },
        "id": "LNmSSjq5BqWV",
        "outputId": "9d10c2bd-b05f-4656-a597-22ce8f645748"
      },
      "execution_count": 155,
      "outputs": [
        {
          "output_type": "display_data",
          "data": {
            "text/html": [
              "'BBFF96-0'"
            ],
            "text/markdown": "'BBFF96-0'",
            "text/latex": "'BBFF96-0'",
            "text/plain": [
              "[1] \"BBFF96-0\""
            ]
          },
          "metadata": {}
        }
      ]
    },
    {
      "cell_type": "code",
      "source": [
        "head(patentes)"
      ],
      "metadata": {
        "colab": {
          "base_uri": "https://localhost:8080/",
          "height": 304
        },
        "id": "VLbA_PcANE8Q",
        "outputId": "de8a55b4-3e8e-4a67-d3a9-3a699b173843"
      },
      "execution_count": 145,
      "outputs": [
        {
          "output_type": "display_data",
          "data": {
            "text/html": [
              "<table class=\"dataframe\">\n",
              "<caption>A data.frame: 6 × 1</caption>\n",
              "<thead>\n",
              "\t<tr><th></th><th scope=col>Placa</th></tr>\n",
              "\t<tr><th></th><th scope=col>&lt;chr&gt;</th></tr>\n",
              "</thead>\n",
              "<tbody>\n",
              "\t<tr><th scope=row>1</th><td>BBCS97-1</td></tr>\n",
              "\t<tr><th scope=row>2</th><td>BBFF96-0</td></tr>\n",
              "\t<tr><th scope=row>3</th><td>BBFY94-K</td></tr>\n",
              "\t<tr><th scope=row>4</th><td>BBFY94-K</td></tr>\n",
              "\t<tr><th scope=row>5</th><td>BBFY94-K</td></tr>\n",
              "\t<tr><th scope=row>6</th><td>BBGZ24-0</td></tr>\n",
              "</tbody>\n",
              "</table>\n"
            ],
            "text/markdown": "\nA data.frame: 6 × 1\n\n| <!--/--> | Placa &lt;chr&gt; |\n|---|---|\n| 1 | BBCS97-1 |\n| 2 | BBFF96-0 |\n| 3 | BBFY94-K |\n| 4 | BBFY94-K |\n| 5 | BBFY94-K |\n| 6 | BBGZ24-0 |\n\n",
            "text/latex": "A data.frame: 6 × 1\n\\begin{tabular}{r|l}\n  & Placa\\\\\n  & <chr>\\\\\n\\hline\n\t1 & BBCS97-1\\\\\n\t2 & BBFF96-0\\\\\n\t3 & BBFY94-K\\\\\n\t4 & BBFY94-K\\\\\n\t5 & BBFY94-K\\\\\n\t6 & BBGZ24-0\\\\\n\\end{tabular}\n",
            "text/plain": [
              "  Placa   \n",
              "1 BBCS97-1\n",
              "2 BBFF96-0\n",
              "3 BBFY94-K\n",
              "4 BBFY94-K\n",
              "5 BBFY94-K\n",
              "6 BBGZ24-0"
            ]
          },
          "metadata": {}
        }
      ]
    },
    {
      "cell_type": "code",
      "source": [
        "# Función para obtener el valor de una letra según la tabla dada\n",
        "obtener_valor_letra <- function(letra) {\n",
        "  valores_letras <- c('B' = 1, 'C' = 2, 'D' = 3, 'F' = 4, 'G' = 5, 'H' = 6, 'J' = 7,\n",
        "                      'K' = 8, 'L' = 9, 'P' = 0, 'R' = 2, 'S' = 3, 'T' = 4, 'V' = 5,\n",
        "                      'W' = 6, 'X' = 7, 'Y' = 8, 'Z' = 9)\n",
        "\n",
        "  if (!letra %in% names(valores_letras)) {\n",
        "    stop(paste(\"Letra no válida:\", letra))\n",
        "  }\n",
        "\n",
        "  return(valores_letras[[letra]])\n",
        "}\n",
        "\n",
        "# Función para obtener el dígito verificador\n",
        "obtener_digito_verificador <- function(patente) {\n",
        "  # Verificar que la patente tenga el formato correcto\n",
        "  if (!grepl(\"^[A-Z]{4}[0-9]{2}-[0-9K]$\", patente)) {\n",
        "    stop(\"El formato de la patente no es válido. Debe ser LLLL.nn-V\")\n",
        "  }\n",
        "\n",
        "  # Extraer las letras y los números\n",
        "  letras <- substr(patente, 1, 4)\n",
        "  numeros <- substr(patente, 5, 6)\n",
        "\n",
        "  # Obtener los valores de las letras según la tabla dada\n",
        "  valores_letras <- sapply(strsplit(letras, NULL)[[1]], obtener_valor_letra)\n",
        "\n",
        "  # Convertir los números a enteros\n",
        "  valores_numeros <- as.numeric(strsplit(numeros, NULL)[[1]])\n",
        "\n",
        "  # Calcular la suma ponderada\n",
        "  suma <- sum(valores_letras * c(7, 6, 5, 4)) + sum(valores_numeros * c(3, 2))\n",
        "\n",
        "  # Calcular el dígito verificador\n",
        "  digito_verificador <- (11 - (suma %% 11))\n",
        "  if (digito_verificador==10) digito_verificador<-\"K\"\n",
        "  if (digito_verificador==11) digito_verificador<-0\n",
        "    return(digito_verificador)\n",
        "}\n",
        "\n",
        "# Función para validar la patente\n",
        "validar_patente <- function(patente) {\n",
        "  digito_verificador_actual <- substr(patente, 8, 8)\n",
        "  digito_verificador_calculado <- obtener_digito_verificador(patente)\n",
        "\n",
        "  return(digito_verificador_actual == digito_verificador_calculado)\n",
        "}"
      ],
      "metadata": {
        "id": "aO-ER_bvHPy-"
      },
      "execution_count": 151,
      "outputs": []
    },
    {
      "cell_type": "code",
      "source": [
        "validar_patente(patentes[3,1])"
      ],
      "metadata": {
        "colab": {
          "base_uri": "https://localhost:8080/",
          "height": 34
        },
        "id": "ADCFgW0jH8J1",
        "outputId": "456aa768-85af-4e7d-fb46-e520dd9d4651"
      },
      "execution_count": 152,
      "outputs": [
        {
          "output_type": "display_data",
          "data": {
            "text/html": [
              "TRUE"
            ],
            "text/markdown": "TRUE",
            "text/latex": "TRUE",
            "text/plain": [
              "[1] TRUE"
            ]
          },
          "metadata": {}
        }
      ]
    },
    {
      "cell_type": "code",
      "source": [
        "library(dplyr)\n",
        "# Aplicar la función a cada fila y crear una nueva columna\n",
        "patentes <- patentes %>%\n",
        "  mutate(Valido = sapply(patentes[,1], validar_patente))\n",
        "\n",
        "# Guardar el resultado en un nuevo archivo CSV\n",
        "write.csv(patentes, \"/content/patentes_validadas.csv\", row.names = FALSE)\n",
        "# Abre nuevo archivo\n",
        "patentes_validadas <- read.csv(\"/content/patentes_validadas.csv\", sep = \";\", header = TRUE, stringsAsFactors = FALSE)\n",
        "# Mostrar las primeras filas del dataframe resultante\n",
        "head(patentes_validadas)\n"
      ],
      "metadata": {
        "id": "Zo9AtYbbNUv1",
        "colab": {
          "base_uri": "https://localhost:8080/",
          "height": 286
        },
        "outputId": "87f34c3b-6149-46f9-f3ad-e0fcbbd71a86"
      },
      "execution_count": 153,
      "outputs": [
        {
          "output_type": "display_data",
          "data": {
            "text/html": [
              "<table class=\"dataframe\">\n",
              "<caption>A data.frame: 6 × 1</caption>\n",
              "<thead>\n",
              "\t<tr><th></th><th scope=col>Placa.Valido</th></tr>\n",
              "\t<tr><th></th><th scope=col>&lt;chr&gt;</th></tr>\n",
              "</thead>\n",
              "<tbody>\n",
              "\t<tr><th scope=row>1</th><td>BBCS97-1,TRUE</td></tr>\n",
              "\t<tr><th scope=row>2</th><td>BBFF96-0,TRUE</td></tr>\n",
              "\t<tr><th scope=row>3</th><td>BBFY94-K,TRUE</td></tr>\n",
              "\t<tr><th scope=row>4</th><td>BBFY94-K,TRUE</td></tr>\n",
              "\t<tr><th scope=row>5</th><td>BBFY94-K,TRUE</td></tr>\n",
              "\t<tr><th scope=row>6</th><td>BBGZ24-0,TRUE</td></tr>\n",
              "</tbody>\n",
              "</table>\n"
            ],
            "text/markdown": "\nA data.frame: 6 × 1\n\n| <!--/--> | Placa.Valido &lt;chr&gt; |\n|---|---|\n| 1 | BBCS97-1,TRUE |\n| 2 | BBFF96-0,TRUE |\n| 3 | BBFY94-K,TRUE |\n| 4 | BBFY94-K,TRUE |\n| 5 | BBFY94-K,TRUE |\n| 6 | BBGZ24-0,TRUE |\n\n",
            "text/latex": "A data.frame: 6 × 1\n\\begin{tabular}{r|l}\n  & Placa.Valido\\\\\n  & <chr>\\\\\n\\hline\n\t1 & BBCS97-1,TRUE\\\\\n\t2 & BBFF96-0,TRUE\\\\\n\t3 & BBFY94-K,TRUE\\\\\n\t4 & BBFY94-K,TRUE\\\\\n\t5 & BBFY94-K,TRUE\\\\\n\t6 & BBGZ24-0,TRUE\\\\\n\\end{tabular}\n",
            "text/plain": [
              "  Placa.Valido \n",
              "1 BBCS97-1,TRUE\n",
              "2 BBFF96-0,TRUE\n",
              "3 BBFY94-K,TRUE\n",
              "4 BBFY94-K,TRUE\n",
              "5 BBFY94-K,TRUE\n",
              "6 BBGZ24-0,TRUE"
            ]
          },
          "metadata": {}
        }
      ]
    },
    {
      "cell_type": "code",
      "source": [
        "# Función para generar una patente aleatoria\n",
        "generar_patente <- function() {\n",
        "  letras_permitidas <- c('B', 'C', 'D', 'F', 'G', 'H', 'J', 'K', 'L', 'P', 'R', 'S', 'T', 'V', 'W', 'X', 'Y', 'Z')\n",
        "  letras <- paste0(sample(letras_permitidas, 4, replace = TRUE), collapse = \"\")\n",
        "  #letras <- paste0(sample(LETTERS, 4, replace = TRUE), collapse = \"\")\n",
        "  numeros <- paste0(sample(0:9, 2, replace = TRUE), collapse = \"\")\n",
        "  digito_verificador <- sample(c(0:9, \"K\"), 1)\n",
        "  return(paste0(letras, numeros, \"-\", digito_verificador))\n",
        "}\n",
        "\n",
        "# Función para obtener el valor de una letra según la tabla dada\n",
        "obtener_valor_letra <- function(letra) {\n",
        "  valores_letras <- c('B' = 1, 'C' = 2, 'D' = 3, 'F' = 4, 'G' = 5, 'H' = 6, 'J' = 7,\n",
        "                      'K' = 8, 'L' = 9, 'P' = 0, 'R' = 2, 'S' = 3, 'T' = 4, 'V' = 5,\n",
        "                      'W' = 6, 'X' = 7, 'Y' = 8, 'Z' = 9)\n",
        "\n",
        "  if (!letra %in% names(valores_letras)) {\n",
        "    stop(paste(\"Letra no válida:\", letra))\n",
        "  }\n",
        "\n",
        "  return(valores_letras[[letra]])\n",
        "}\n",
        "\n",
        "# Función para obtener el dígito verificador\n",
        "obtener_digito_verificador <- function(patente) {\n",
        "  # Verificar que la patente tenga el formato correcto\n",
        "  if (!grepl(\"^[A-Z]{4}[0-9]{2}-[0-9K]$\", patente)) {\n",
        "    stop(\"El formato de la patente no es válido. Debe ser LLLL.nn-V\")\n",
        "  }\n",
        "\n",
        "  # Extraer las letras y los números\n",
        "  letras <- substr(patente, 1, 4)\n",
        "  numeros <- substr(patente, 5, 6)\n",
        "\n",
        "  # Obtener los valores de las letras según la tabla dada\n",
        "  valores_letras <- sapply(strsplit(letras, NULL)[[1]], obtener_valor_letra)\n",
        "\n",
        "  # Convertir los números a enteros\n",
        "  valores_numeros <- as.numeric(strsplit(numeros, NULL)[[1]])\n",
        "\n",
        "  # Calcular la suma ponderada\n",
        "  suma <- sum(valores_letras * c(7, 6, 5, 4)) + sum(valores_numeros * c(3, 2))\n",
        "\n",
        "  # Calcular el dígito verificador\n",
        "  digito_verificador <- (11 - (suma %% 11))\n",
        "  if (digito_verificador == 10) digito_verificador <- \"K\"\n",
        "  if (digito_verificador == 11) digito_verificador <- 0\n",
        "  return(digito_verificador)\n",
        "}\n",
        "\n",
        "# Función para validar la patente\n",
        "validar_patente <- function(patente) {\n",
        "  digito_verificador_actual <- substr(patente, 8, 8)\n",
        "  digito_verificador_calculado <- obtener_digito_verificador(patente)\n",
        "\n",
        "  return(digito_verificador_actual == digito_verificador_calculado)\n",
        "}\n",
        "\n",
        "# Generar patentes válidas\n",
        "num_patentes <- 100\n",
        "patentes_validas <- character(0)\n",
        "while (length(patentes_validas) < num_patentes) {\n",
        "  patente <- generar_patente()\n",
        "  if (validar_patente(patente)) {\n",
        "    patentes_validas <- c(patentes_validas, patente)\n",
        "  }\n",
        "}\n",
        "\n",
        "# Crear un data frame y guardar en un archivo CSV\n",
        "df <- data.frame(Patente = patentes_validas)\n",
        "write.csv(df, \"patentes_chilenas_validas.csv\", row.names = FALSE)"
      ],
      "metadata": {
        "id": "BWsXVa5sYDTN"
      },
      "execution_count": 158,
      "outputs": []
    }
  ]
}