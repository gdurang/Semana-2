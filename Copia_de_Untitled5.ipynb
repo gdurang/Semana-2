{
  "nbformat": 4,
  "nbformat_minor": 0,
  "metadata": {
    "colab": {
      "provenance": [],
      "authorship_tag": "ABX9TyMHxyD6TV24LXo3cPhmGnii",
      "include_colab_link": true
    },
    "kernelspec": {
      "name": "ir",
      "display_name": "R"
    },
    "language_info": {
      "name": "R"
    }
  },
  "cells": [
    {
      "cell_type": "markdown",
      "metadata": {
        "id": "view-in-github",
        "colab_type": "text"
      },
      "source": [
        "<a href=\"https://colab.research.google.com/github/gdurang/Semana-2/blob/main/Copia_de_Untitled5.ipynb\" target=\"_parent\"><img src=\"https://colab.research.google.com/assets/colab-badge.svg\" alt=\"Open In Colab\"/></a>"
      ]
    },
    {
      "cell_type": "code",
      "execution_count": null,
      "metadata": {
        "id": "nWnpFJmuSE63"
      },
      "outputs": [],
      "source": [
        "# prompt: Crea una función que valide RUT\n",
        "\n",
        "# Función para validar RUT\n",
        "validar_rut <- function(rut) {\n",
        "  # Eliminar puntos y guiones\n",
        "  rut <- gsub(\"[\\\\.-]\", \"\", rut)\n",
        "  ? rut\n",
        "  # Verificar longitud\n",
        "  if (nchar(rut) != 9) {\n",
        "    return(FALSE)\n",
        "  }\n",
        "\n",
        "  # Extraer dígito verificador\n",
        "  dv <- substr(rut, 9, 9)\n",
        "\n",
        "  # Calcular dígito verificador\n",
        "  rut_sin_dv <- substr(rut, 1, 8)\n",
        "  factor <- c(2, 3, 4, 5, 6, 7, 2, 3)\n",
        "  suma <- sum(as.numeric(strsplit(rut_sin_dv, \"\")[[1]]) * factor)\n",
        "  resto <- suma %% 11\n",
        "  dv_calculado <- 11 - resto\n",
        "\n",
        "  # Verificar dígito verificador\n",
        "  if (dv_calculado == 10) {\n",
        "    dv_calculado <- \"K\"\n",
        "  } else if (dv_calculado == 11) {\n",
        "    dv_calculado <- \"0\"\n",
        "  }\n",
        "\n",
        "  # Retornar resultado\n",
        "  return(dv == dv_calculado)\n",
        "}\n"
      ]
    },
    {
      "cell_type": "markdown",
      "source": [],
      "metadata": {
        "id": "HR2cCPUpYYo5"
      }
    },
    {
      "cell_type": "code",
      "source": [],
      "metadata": {
        "id": "2aomqWRQYZBk"
      },
      "execution_count": null,
      "outputs": []
    },
    {
      "cell_type": "code",
      "source": [
        "# Función para obtener el valor de una letra según la tabla dada\n",
        "obtener_valor_letra <- function(letra) {\n",
        "  valores_letras <- c('B' = 1, 'C' = 2, 'D' = 3, 'F' = 4, 'G' = 5, 'H' = 6, 'J' = 7,\n",
        "                      'K' = 8, 'L' = 9, 'P' = 0, 'R' = 2, 'S' = 3, 'T' = 4, 'V' = 5,\n",
        "                      'W' = 6, 'X' = 7, 'Y' = 8, 'Z' = 9)\n",
        "\n",
        "  if (!letra %in% names(valores_letras)) {\n",
        "    stop(paste(\"Letra no válida:\", letra))\n",
        "  }\n",
        "\n",
        "  return(valores_letras[[letra]])\n",
        "}\n",
        "\n",
        "# Función para obtener el dígito verificador\n",
        "obtener_digito_verificador <- function(patente) {\n",
        "  # Verificar que la patente tenga el formato correcto\n",
        "  if (!grepl(\"^[B-Z]{4}[0-9]{2}-[0-9,K]$\", patente)) {\n",
        "    stop(\"El formato de la patente no es válido. Debe ser LLLL.nn-V\")\n",
        "  }\n",
        "\n",
        "  # Extraer las letras y los números\n",
        "  letras <- substr(patente, 1, 4)\n",
        "  numeros <- substr(patente, 5, 6)\n",
        "\n",
        "  # Obtener los valores de las letras según la tabla dada\n",
        "  valores_letras <- sapply(strsplit(letras, \"\")[[1]], obtener_valor_letra)\n",
        "\n",
        "  # Convertir los números a enteros\n",
        "  valores_numeros <- as.numeric(strsplit(numeros, \"\")[[1]])\n",
        "\n",
        "  # Calcular la suma ponderada\n",
        "  suma <- sum(valores_letras * c(7, 6, 5, 4)) + sum(valores_numeros * c(3, 2))\n",
        "\n",
        "  # Calcular el dígito verificador\n",
        "if (suma %% 11==0) {digito_verificador<-0} else { if (11 - (suma %% 11)==10) {digito_verificador<-\"K\"} else {digito_verificador<-(11 - (suma %% 11))} }\n",
        "\n",
        "\n",
        "\n",
        "  return(digito_verificador)\n",
        "}\n",
        "\n",
        "# Función para validar la patente\n",
        "validar_patente <- function(patente) {\n",
        " K<- substr(patente, 8, 8)\n",
        " V<-obtener_digito_verificador(patente)\n",
        " if  (K==\"K\") return(K==V)\n",
        "}"
      ],
      "metadata": {
        "id": "7uN0Jxs__tcu"
      },
      "execution_count": 96,
      "outputs": []
    },
    {
      "cell_type": "code",
      "source": [
        "validar_patente(\"BBFY94-K\")"
      ],
      "metadata": {
        "colab": {
          "base_uri": "https://localhost:8080/",
          "height": 34
        },
        "id": "OAuSCZ3t_0pP",
        "outputId": "c48d04e3-a878-446b-ba24-4971259b16b6"
      },
      "execution_count": 97,
      "outputs": [
        {
          "output_type": "display_data",
          "data": {
            "text/html": [
              "TRUE"
            ],
            "text/markdown": "TRUE",
            "text/latex": "TRUE",
            "text/plain": [
              "[1] TRUE"
            ]
          },
          "metadata": {}
        }
      ]
    },
    {
      "cell_type": "code",
      "source": [
        "rut<-\"11.111.111-1\""
      ],
      "metadata": {
        "id": "KwbUKl8PT1iA"
      },
      "execution_count": null,
      "outputs": []
    },
    {
      "cell_type": "code",
      "source": [
        "validar_rut(rut)"
      ],
      "metadata": {
        "colab": {
          "base_uri": "https://localhost:8080/",
          "height": 34
        },
        "id": "OL75XP_vUKlH",
        "outputId": "7e089b33-5c64-45d9-913e-996c48d5cfaa"
      },
      "execution_count": null,
      "outputs": [
        {
          "output_type": "display_data",
          "data": {
            "text/html": [
              "TRUE"
            ],
            "text/markdown": "TRUE",
            "text/latex": "TRUE",
            "text/plain": [
              "[1] TRUE"
            ]
          },
          "metadata": {}
        }
      ]
    }
  ]
}